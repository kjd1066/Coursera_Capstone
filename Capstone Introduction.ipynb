{
 "cells": [
  {
   "cell_type": "markdown",
   "metadata": {},
   "source": [
    "# Capstone Project: Comparing Neighborhoods in New York and Boston"
   ]
  },
  {
   "cell_type": "markdown",
   "metadata": {},
   "source": [
    "### Background and Problem:"
   ]
  },
  {
   "cell_type": "markdown",
   "metadata": {},
   "source": [
    "##Imagine you are a realtor whose specializes in relocation services. You have been contracted by ABC123, LLC. They are moving their HQ from New York to Boston. You and your company have been tasked to find homes/apartments in neighborhoods that make each employee feel at home. How can this be accomplished? "
   ]
  },
  {
   "cell_type": "markdown",
   "metadata": {},
   "source": [
    "##The following data will be used:\n",
    "-  Zip codes (neighborhoods) of Boston and New York City and corresponding latitude and longitude data.\n",
    "-  Foursquare data based on the latitudes and longitudes of those neighborhoods."
   ]
  },
  {
   "cell_type": "markdown",
   "metadata": {},
   "source": [
    "##The above will allow us to gather data on types of neighborhoods in New York and Boston and segment and cluster them into groups based on their similarities. This will give us the ability to make recommendations on comparable neighborhoods in Boston."
   ]
  },
  {
   "cell_type": "code",
   "execution_count": null,
   "metadata": {
    "collapsed": true
   },
   "outputs": [],
   "source": []
  }
 ],
 "metadata": {
  "kernelspec": {
   "display_name": "Python 3",
   "language": "python",
   "name": "python3"
  },
  "language_info": {
   "codemirror_mode": {
    "name": "ipython",
    "version": 3
   },
   "file_extension": ".py",
   "mimetype": "text/x-python",
   "name": "python",
   "nbconvert_exporter": "python",
   "pygments_lexer": "ipython3",
   "version": "3.5.2"
  },
  "widgets": {
   "state": {},
   "version": "1.1.2"
  }
 },
 "nbformat": 4,
 "nbformat_minor": 4
}
